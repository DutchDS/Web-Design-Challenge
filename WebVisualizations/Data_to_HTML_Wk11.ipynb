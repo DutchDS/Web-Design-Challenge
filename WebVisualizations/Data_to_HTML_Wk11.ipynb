{
 "cells": [
  {
   "cell_type": "code",
   "execution_count": 1,
   "metadata": {},
   "outputs": [
    {
     "data": {
      "text/html": [
       "<div>\n",
       "<style scoped>\n",
       "    .dataframe tbody tr th:only-of-type {\n",
       "        vertical-align: middle;\n",
       "    }\n",
       "\n",
       "    .dataframe tbody tr th {\n",
       "        vertical-align: top;\n",
       "    }\n",
       "\n",
       "    .dataframe thead th {\n",
       "        text-align: right;\n",
       "    }\n",
       "</style>\n",
       "<table border=\"1\" class=\"dataframe\">\n",
       "  <thead>\n",
       "    <tr style=\"text-align: right;\">\n",
       "      <th></th>\n",
       "      <th>Name</th>\n",
       "      <th>Longitude</th>\n",
       "      <th>Latitude</th>\n",
       "      <th>Max Temperature</th>\n",
       "      <th>Humidity</th>\n",
       "      <th>Cloudiness</th>\n",
       "      <th>Wind</th>\n",
       "      <th>Country</th>\n",
       "    </tr>\n",
       "  </thead>\n",
       "  <tbody>\n",
       "    <tr>\n",
       "      <th>0</th>\n",
       "      <td>Atar</td>\n",
       "      <td>-13.05</td>\n",
       "      <td>20.52</td>\n",
       "      <td>75.812</td>\n",
       "      <td>29</td>\n",
       "      <td>100</td>\n",
       "      <td>5.48</td>\n",
       "      <td>MR</td>\n",
       "    </tr>\n",
       "    <tr>\n",
       "      <th>1</th>\n",
       "      <td>Atuona</td>\n",
       "      <td>-139.03</td>\n",
       "      <td>-9.80</td>\n",
       "      <td>79.772</td>\n",
       "      <td>71</td>\n",
       "      <td>5</td>\n",
       "      <td>7.76</td>\n",
       "      <td>PF</td>\n",
       "    </tr>\n",
       "    <tr>\n",
       "      <th>2</th>\n",
       "      <td>Ribeira Grande</td>\n",
       "      <td>-28.70</td>\n",
       "      <td>38.52</td>\n",
       "      <td>66.200</td>\n",
       "      <td>52</td>\n",
       "      <td>20</td>\n",
       "      <td>2.10</td>\n",
       "      <td>PT</td>\n",
       "    </tr>\n",
       "    <tr>\n",
       "      <th>3</th>\n",
       "      <td>Busselton</td>\n",
       "      <td>115.35</td>\n",
       "      <td>-33.64</td>\n",
       "      <td>60.998</td>\n",
       "      <td>58</td>\n",
       "      <td>0</td>\n",
       "      <td>1.91</td>\n",
       "      <td>AU</td>\n",
       "    </tr>\n",
       "    <tr>\n",
       "      <th>4</th>\n",
       "      <td>Itoman</td>\n",
       "      <td>127.67</td>\n",
       "      <td>26.12</td>\n",
       "      <td>73.400</td>\n",
       "      <td>64</td>\n",
       "      <td>75</td>\n",
       "      <td>2.10</td>\n",
       "      <td>JP</td>\n",
       "    </tr>\n",
       "  </tbody>\n",
       "</table>\n",
       "</div>"
      ],
      "text/plain": [
       "             Name  Longitude  Latitude  Max Temperature  Humidity  Cloudiness  \\\n",
       "0            Atar     -13.05     20.52           75.812        29         100   \n",
       "1          Atuona    -139.03     -9.80           79.772        71           5   \n",
       "2  Ribeira Grande     -28.70     38.52           66.200        52          20   \n",
       "3       Busselton     115.35    -33.64           60.998        58           0   \n",
       "4          Itoman     127.67     26.12           73.400        64          75   \n",
       "\n",
       "   Wind Country  \n",
       "0  5.48      MR  \n",
       "1  7.76      PF  \n",
       "2  2.10      PT  \n",
       "3  1.91      AU  \n",
       "4  2.10      JP  "
      ]
     },
     "execution_count": 1,
     "metadata": {},
     "output_type": "execute_result"
    }
   ],
   "source": [
    "import pandas as pd\n",
    "\n",
    "\n",
    "df = pd.read_csv(\"Output/new_short.csv\")\n",
    "df.head()"
   ]
  },
  {
   "cell_type": "code",
   "execution_count": 2,
   "metadata": {},
   "outputs": [],
   "source": [
    "df.to_html(\"Output/lat_data.html\")"
   ]
  }
 ],
 "metadata": {
  "kernelspec": {
   "display_name": "Python [conda env:PythonData]",
   "language": "python",
   "name": "conda-env-PythonData-py"
  },
  "language_info": {
   "codemirror_mode": {
    "name": "ipython",
    "version": 3
   },
   "file_extension": ".py",
   "mimetype": "text/x-python",
   "name": "python",
   "nbconvert_exporter": "python",
   "pygments_lexer": "ipython3",
   "version": "3.6.9"
  }
 },
 "nbformat": 4,
 "nbformat_minor": 2
}
